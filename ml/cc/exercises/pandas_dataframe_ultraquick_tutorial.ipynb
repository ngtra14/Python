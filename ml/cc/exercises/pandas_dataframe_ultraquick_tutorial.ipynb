{
  "nbformat": 4,
  "nbformat_minor": 0,
  "metadata": {
    "colab": {
      "name": "Pandas DataFrame UltraQuick Tutorial.ipynb",
      "provenance": [],
      "private_outputs": true
    },
    "kernelspec": {
      "name": "python3",
      "display_name": "Python 3"
    }
  },
  "cells": [
    {
      "cell_type": "code",
      "metadata": {
        "id": "NO_4WhdJZ5Pm",
        "cellView": "form"
      },
      "source": [
        "#@title Copyright 2020 Google LLC. Double-click here for license information.\n",
        "# Licensed under the Apache License, Version 2.0 (the \"License\");\n",
        "# you may not use this file except in compliance with the License.\n",
        "# You may obtain a copy of the License at\n",
        "#\n",
        "# https://www.apache.org/licenses/LICENSE-2.0\n",
        "#\n",
        "# Unless required by applicable law or agreed to in writing, software\n",
        "# distributed under the License is distributed on an \"AS IS\" BASIS,\n",
        "# WITHOUT WARRANTIES OR CONDITIONS OF ANY KIND, either express or implied.\n",
        "# See the License for the specific language governing permissions and\n",
        "# limitations under the License."
      ],
      "execution_count": null,
      "outputs": []
    },
    {
      "cell_type": "code",
      "source": [],
      "metadata": {
        "id": "ev2Q_PVUkjtM"
      },
      "execution_count": null,
      "outputs": []
    },
    {
      "cell_type": "markdown",
      "metadata": {
        "id": "DeKRcpe49VnV"
      },
      "source": [
        "# Pandas DataFrame UltraQuick Tutorial\n",
        "\n",
        "This Colab introduces [**DataFrames**](https://pandas.pydata.org/pandas-docs/stable/reference/api/pandas.DataFrame.html), which are the central data structure in the pandas API. This Colab is not a comprehensive DataFrames tutorial.  Rather, this Colab provides a very quick introduction to the parts of DataFrames required to do the other Colab exercises in Machine Learning Crash Course.\n",
        "\n",
        "A DataFrame is similar to an in-memory spreadsheet. Like a spreadsheet:\n",
        "\n",
        "  * A DataFrame stores data in cells.\n",
        "  * A DataFrame has named columns (usually) and numbered rows."
      ]
    },
    {
      "cell_type": "markdown",
      "metadata": {
        "id": "AByfHsr8H_sU"
      },
      "source": [
        "## Import NumPy and pandas modules\n",
        "\n",
        "Run the following code cell to import the NumPy and pandas modules."
      ]
    },
    {
      "cell_type": "code",
      "metadata": {
        "id": "ZmL0l551Iibq"
      },
      "source": [
        "import numpy as np\n",
        "import pandas as pd"
      ],
      "execution_count": null,
      "outputs": []
    },
    {
      "cell_type": "markdown",
      "metadata": {
        "id": "RutIK84wIp1S"
      },
      "source": [
        "## Creating a DataFrame\n",
        "\n",
        "The following code cell creates a simple DataFrame containing 10 cells organized as follows:\n",
        "\n",
        "  * 5 rows\n",
        "  * 2 columns, one named `temperature` and the other named `activity`\n",
        "\n",
        "The following code cell instantiates a `pd.DataFrame` class to generate a DataFrame. The class takes two arguments:\n",
        "\n",
        "  * The first argument provides the data to populate the 10 cells. The code cell calls `np.array` to generate the 5x2 NumPy array.\n",
        "  * The second argument identifies the names of the two columns.\n",
        "\n",
        "**Note**: Do not redefine variables in the following code cell. Subsequent code cells use these variables."
      ]
    },
    {
      "cell_type": "code",
      "metadata": {
        "id": "FNZsPOgSD4F2"
      },
      "source": [
        "# Create and populate a 5x2 NumPy array.\n",
        "my_data = np.array([[0, 3], [10, 7], [20, 9], [30, 14], [40, 15]])\n",
        "\n",
        "# Create a Python list that holds the names of the two columns.\n",
        "my_column_names = ['temperature', 'activity']\n",
        "\n",
        "# Create a DataFrame.\n",
        "my_dataframe = pd.DataFrame(data=my_data, columns=my_column_names)\n",
        "\n",
        "# Print the entire DataFrame\n",
        "print(my_dataframe)"
      ],
      "execution_count": null,
      "outputs": []
    },
    {
      "cell_type": "markdown",
      "metadata": {
        "id": "NJ-I78_7OFVs"
      },
      "source": [
        "## Adding a new column to a DataFrame\n",
        "\n",
        "You may add a new column to an existing pandas DataFrame just by assigning values to a new column name. For example, the following code creates a third column named `adjusted` in `my_dataframe`:"
      ]
    },
    {
      "cell_type": "code",
      "metadata": {
        "id": "JEBZyMdEOngx"
      },
      "source": [
        "# Create a new column named adjusted.\n",
        "my_dataframe[\"adjusted\"] = my_dataframe[\"activity\"] + 2\n",
        "\n",
        "# Print the entire DataFrame\n",
        "print(my_dataframe)"
      ],
      "execution_count": null,
      "outputs": []
    },
    {
      "cell_type": "markdown",
      "metadata": {
        "id": "RJ2aziCR5th2"
      },
      "source": [
        "## Specifying a subset of a DataFrame\n",
        "\n",
        "Pandas provide multiples ways to isolate specific rows, columns, slices or cells in a DataFrame."
      ]
    },
    {
      "cell_type": "code",
      "metadata": {
        "id": "RIO91Fu65s6k"
      },
      "source": [
        "print(\"Rows #0, #1, and #2:\")\n",
        "print(my_dataframe.head(3), '\\n')\n",
        "\n",
        "print(\"Row #2:\")\n",
        "print(my_dataframe.iloc[[2]], '\\n')\n",
        "\n",
        "print(\"Rows #1, #2, and #3:\")\n",
        "print(my_dataframe[1:4], '\\n')\n",
        "\n",
        "print(\"Column 'temperature':\")\n",
        "print(my_dataframe['temperature'])"
      ],
      "execution_count": null,
      "outputs": []
    },
    {
      "cell_type": "markdown",
      "metadata": {
        "id": "_cL_NxAdZzdS"
      },
      "source": [
        "## Task 1: Create a DataFrame\n",
        "\n",
        "Do the following:\n",
        "\n",
        "  1. Create an 3x4 (3 rows x 4 columns) pandas DataFrame in which the columns are named `Eleanor`,  `Chidi`, `Tahani`, and `Jason`.  Populate each of the 12 cells in the DataFrame with a random integer between 0 and 100, inclusive.\n",
        "\n",
        "  2. Output the following:\n",
        "\n",
        "     * the entire DataFrame\n",
        "     * the value in the cell of row #1 of the `Eleanor` column\n",
        "\n",
        "  3. Create a fifth column named `Janet`, which is populated with the row-by-row sums of `Tahani` and `Jason`.\n",
        "\n",
        "To complete this task, it helps to know the NumPy basics covered in the NumPy UltraQuick Tutorial.\n"
      ]
    },
    {
      "cell_type": "code",
      "metadata": {
        "id": "cIJEv08DMSxj"
      },
      "source": [
        "# Write your code here."
      ],
      "execution_count": null,
      "outputs": []
    },
    {
      "cell_type": "code",
      "metadata": {
        "id": "dPmpVM_8IoBO",
        "cellView": "form"
      },
      "source": [
        "#@title Double-click for a solution to Task 1.\n",
        "\n",
        "# Create a Python list that holds the names of the four columns.\n",
        "my_column_names = ['Eleanor', 'Chidi', 'Tahani', 'Jason']\n",
        "\n",
        "# Create a 3x4 numpy array, each cell populated with a random integer.\n",
        "my_data = np.random.randint(low=0, high=101, size=(3, 4))\n",
        "\n",
        "# Create a DataFrame.\n",
        "df = pd.DataFrame(data=my_data, columns=my_column_names)\n",
        "\n",
        "# Print the entire DataFrame\n",
        "print(df)\n",
        "\n",
        "# Print the value in row #1 of the Eleanor column.\n",
        "print(\"\\nSecond row of the Eleanor column: %d\\n\" % df['Eleanor'][1])\n",
        "\n",
        "# Create a column named Janet whose contents are the sum\n",
        "# of two other columns.\n",
        "df['Janet'] = df['Tahani'] + df['Jason']\n",
        "\n",
        "# Print the enhanced DataFrame\n",
        "print(df)"
      ],
      "execution_count": null,
      "outputs": []
    },
    {
      "cell_type": "markdown",
      "metadata": {
        "id": "bh7MeyafemNL"
      },
      "source": [
        "## Copying a DataFrame (optional)\n",
        "\n",
        "Pandas provides two different ways to duplicate a DataFrame:\n",
        "\n",
        "* **Referencing.** If you assign a DataFrame to a new variable, any change to the DataFrame or to the new variable will be reflected in the other.\n",
        "* **Copying.** If you call the `pd.DataFrame.copy` method, you create a true independent copy.  Changes to the original DataFrame or to the copy will not be reflected in the other.\n",
        "\n",
        "The difference is subtle, but important."
      ]
    },
    {
      "cell_type": "code",
      "metadata": {
        "id": "YDu2VotPgzsW"
      },
      "source": [
        "# Create a reference by assigning my_dataframe to a new variable.\n",
        "print(\"Experiment with a reference:\")\n",
        "reference_to_df = df\n",
        "\n",
        "# Print the starting value of a particular cell.\n",
        "print(\"  Starting value of df: %d\" % df['Jason'][1])\n",
        "print(\"  Starting value of reference_to_df: %d\\n\" % reference_to_df['Jason'][1])\n",
        "\n",
        "# Modify a cell in df.\n",
        "df.at[1, 'Jason'] = df['Jason'][1] + 5\n",
        "print(\"  Updated df: %d\" % df['Jason'][1])\n",
        "print(\"  Updated reference_to_df: %d\\n\\n\" % reference_to_df['Jason'][1])\n",
        "\n",
        "# Create a true copy of my_dataframe\n",
        "print(\"Experiment with a true copy:\")\n",
        "copy_of_my_dataframe = my_dataframe.copy()\n",
        "\n",
        "# Print the starting value of a particular cell.\n",
        "print(\"  Starting value of my_dataframe: %d\" % my_dataframe['activity'][1])\n",
        "print(\"  Starting value of copy_of_my_dataframe: %d\\n\" % copy_of_my_dataframe['activity'][1])\n",
        "\n",
        "# Modify a cell in df.\n",
        "my_dataframe.at[1, 'activity'] = my_dataframe['activity'][1] + 3\n",
        "print(\"  Updated my_dataframe: %d\" % my_dataframe['activity'][1])\n",
        "print(\"  copy_of_my_dataframe does not get updated: %d\" % copy_of_my_dataframe['activity'][1])"
      ],
      "execution_count": null,
      "outputs": []
    },
    {
      "cell_type": "code",
      "source": [
        "from pandas import Series, DataFrame\n",
        "import numpy as np"
      ],
      "metadata": {
        "id": "UjLSpfP3kmbI"
      },
      "execution_count": null,
      "outputs": []
    },
    {
      "cell_type": "code",
      "source": [
        "series_obj=Series(np.arange(0,8,2),index=['row1','row2','row3','row4',])\n",
        "series_obj"
      ],
      "metadata": {
        "id": "VC5Gp8sYkuWe"
      },
      "execution_count": null,
      "outputs": []
    },
    {
      "cell_type": "code",
      "source": [
        "series_obj.iloc[[0,1]]"
      ],
      "metadata": {
        "id": "U-1XpKytlOcN"
      },
      "execution_count": null,
      "outputs": []
    },
    {
      "cell_type": "code",
      "source": [
        "series_obj['row2']"
      ],
      "metadata": {
        "id": "13wBKCgRlXy-"
      },
      "execution_count": null,
      "outputs": []
    },
    {
      "cell_type": "code",
      "source": [
        "df=DataFrame({'City':['Seattle','Chicago','NYC'], 'States':['WA','IL','NY'],'Avg':[100,200,500]})"
      ],
      "metadata": {
        "id": "gghl6ftElaLV"
      },
      "execution_count": null,
      "outputs": []
    },
    {
      "cell_type": "code",
      "source": [
        "df"
      ],
      "metadata": {
        "id": "vmphkyy9rCHd"
      },
      "execution_count": null,
      "outputs": []
    },
    {
      "cell_type": "markdown",
      "source": [
        "Creating Series from a dictionary."
      ],
      "metadata": {
        "id": "dC-oLpqqtrmd"
      }
    },
    {
      "cell_type": "code",
      "source": [
        "series_2=Series({'City':['Seattle','Chicago','NYC'], 'States':['WA','IL','NY'],'Avg':[100,200,500]})"
      ],
      "metadata": {
        "id": "PhZYnWMtrqBM"
      },
      "execution_count": null,
      "outputs": []
    },
    {
      "cell_type": "code",
      "source": [
        "series_2"
      ],
      "metadata": {
        "id": "9NfAVSl3rPO5"
      },
      "execution_count": null,
      "outputs": []
    },
    {
      "cell_type": "markdown",
      "source": [
        "Converting a series directly into dataframe.\n",
        "1. if no index specify, the dictionary key will become index. If we specify here and the index does not match the dictionary key, Naan value will appear."
      ],
      "metadata": {
        "id": "bBpLII_ru50P"
      }
    },
    {
      "cell_type": "code",
      "source": [
        "no_index_df=DataFrame(series_2)\n",
        "no_index_df"
      ],
      "metadata": {
        "id": "zxLsRcW6vDn_"
      },
      "execution_count": null,
      "outputs": []
    },
    {
      "cell_type": "code",
      "source": [
        "not_matching_index=DataFrame(series_2,index=['City','A','B'])\n",
        "not_matching_index"
      ],
      "metadata": {
        "id": "ypAvFqrnvR4Z"
      },
      "execution_count": null,
      "outputs": []
    },
    {
      "cell_type": "markdown",
      "source": [
        "How do we change the index then?\n",
        "1. If we change by .index() as below, the dictionary's key will be replaced by the new provied index list. The new index no longer needs to match the dictionary's key like when we transfrom earlier"
      ],
      "metadata": {
        "id": "L3iTw-s0vdOn"
      }
    },
    {
      "cell_type": "code",
      "source": [
        "dict_df=DataFrame(series_2,index=['City','States','Avg'])\n",
        "dict_df.index=['Location','Demo','Income']\n",
        "dict_df"
      ],
      "metadata": {
        "id": "U0P1hXs6rP_J"
      },
      "execution_count": null,
      "outputs": []
    },
    {
      "cell_type": "markdown",
      "source": [
        "2. If we want to keep the dictionary key, we need to reset the index then assign a new index. The new index can be anyvalue"
      ],
      "metadata": {
        "id": "e8Y6QeKVtqSq"
      }
    },
    {
      "cell_type": "code",
      "source": [
        "key_and_new=DataFrame(series_2)\n",
        "key_and_new\n",
        "#before"
      ],
      "metadata": {
        "id": "JnLoB-NVw2bU"
      },
      "execution_count": null,
      "outputs": []
    },
    {
      "cell_type": "code",
      "source": [
        "#after. makeing sure the inplace is set, otherwise it will replace, instead of adding another colum.\n",
        "key_and_new.reset_index(inplace=True)\n",
        "key_and_new"
      ],
      "metadata": {
        "id": "rIktoZXJmozm"
      },
      "execution_count": null,
      "outputs": []
    },
    {
      "cell_type": "code",
      "source": [
        "#change index\n",
        "key_and_new.index=['Region','Upper region','Income']\n",
        "key_and_new"
      ],
      "metadata": {
        "id": "079O0yrGmm_v"
      },
      "execution_count": null,
      "outputs": []
    },
    {
      "cell_type": "code",
      "source": [
        "key_and_new.index"
      ],
      "metadata": {
        "id": "fZ9VoipMl9mT"
      },
      "execution_count": null,
      "outputs": []
    },
    {
      "cell_type": "markdown",
      "source": [
        "Retrieving data from specific location"
      ],
      "metadata": {
        "id": "_W63pbyZ2jPP"
      }
    },
    {
      "cell_type": "code",
      "source": [
        "df=key_and_new.copy()\n",
        "df\n",
        "df.iloc[[1,2],[0]]"
      ],
      "metadata": {
        "id": "6rSa3mVllSbN"
      },
      "execution_count": null,
      "outputs": []
    },
    {
      "cell_type": "markdown",
      "source": [
        "Slicing data from the dataframe"
      ],
      "metadata": {
        "id": "x3bOzjqD3Kjn"
      }
    },
    {
      "cell_type": "code",
      "source": [
        "df.iloc[0:2,1]"
      ],
      "metadata": {
        "id": "iLLeNCXelJSm"
      },
      "execution_count": null,
      "outputs": []
    },
    {
      "cell_type": "markdown",
      "source": [
        "Accessing an entire column using indexing"
      ],
      "metadata": {
        "id": "ChO5tQI45pta"
      }
    },
    {
      "cell_type": "code",
      "source": [
        "df['age']=[30,45,60]\n",
        "df\n"
      ],
      "metadata": {
        "id": "bxKIf430k_GN"
      },
      "execution_count": null,
      "outputs": []
    },
    {
      "cell_type": "code",
      "source": [
        "df.iloc[:,[0,2]]"
      ],
      "metadata": {
        "id": "V-AW9nIT5z6J"
      },
      "execution_count": null,
      "outputs": []
    },
    {
      "cell_type": "markdown",
      "source": [
        "Comparing- mask indexing\n",
        "if not using the outer df[], it will return an object w/ boolean values contains the index position.\n",
        "df[index statisfying the condition] >-- return actual value of the df"
      ],
      "metadata": {
        "id": "jv5mPYEy54y3"
      }
    },
    {
      "cell_type": "code",
      "source": [
        "mask=df.iloc[:,2]>35\n",
        "mask"
      ],
      "metadata": {
        "id": "AMc3gbDdksuU"
      },
      "execution_count": null,
      "outputs": []
    },
    {
      "cell_type": "code",
      "source": [
        "mask2=df[df.iloc[:,2]>35]\n",
        "mask2"
      ],
      "metadata": {
        "id": "2X4_fgTekqWx"
      },
      "execution_count": null,
      "outputs": []
    },
    {
      "cell_type": "markdown",
      "source": [
        "Replacing value inside the dataframe"
      ],
      "metadata": {
        "id": "9zTrwV9mD-Fo"
      }
    },
    {
      "cell_type": "code",
      "source": [
        "df"
      ],
      "metadata": {
        "id": "9Qb5L5dcEaQl"
      },
      "execution_count": null,
      "outputs": []
    },
    {
      "cell_type": "markdown",
      "source": [
        "replace the entire column value,column names vs. replace certain cell that satisfied a condition"
      ],
      "metadata": {
        "id": "904dAhY5Ed_M"
      }
    },
    {
      "cell_type": "code",
      "source": [
        "df.iloc[:,1]=None\n",
        "df"
      ],
      "metadata": {
        "id": "eipGRsdFEnXn"
      },
      "execution_count": null,
      "outputs": []
    },
    {
      "cell_type": "code",
      "source": [
        "df.columns=['Attribute','Values','Age','Outcome']\n",
        "df"
      ],
      "metadata": {
        "id": "0vf3ejeLE7kh"
      },
      "execution_count": null,
      "outputs": []
    },
    {
      "cell_type": "markdown",
      "source": [
        "If column Age is greater than 45 or smaller, then change the value in outcome accordingly.\n",
        "1. accessing to filter the value of age <-- those are the rows that satisfy <-- df.iloc[:,2] because we are filtering along the row\n",
        "2. using those defined rows, let's access the value in Column \" Outcome\" for those row and assign the new value. df.loc[filteredrow,'Outcome] <-- now accessing the value in the defined column."
      ],
      "metadata": {
        "id": "OQWofgG3Hg1j"
      }
    },
    {
      "cell_type": "code",
      "source": [
        "df.iloc[:,2]=df.iloc[:,2].apply(lambda x:int(x))\n",
        "df.loc[df.iloc[:,2]>45,'Outcome']=1\n",
        "df.loc[df.iloc[:,2]<45,'Outcome']=0\n",
        "df.loc[df.iloc[:,2]==45,'Outcome']=1000\n",
        "df"
      ],
      "metadata": {
        "id": "EtlpcTsBFPD6"
      },
      "execution_count": null,
      "outputs": []
    },
    {
      "cell_type": "markdown",
      "source": [
        "Modifying the dataframe to replace None value. Below code changing several lines with a list of value, making sure the [0:2] is the same length with the list"
      ],
      "metadata": {
        "id": "tdzLPVkgH-ak"
      }
    },
    {
      "cell_type": "code",
      "source": [
        "df.iloc[0:2,1]=[200,300]\n",
        "df"
      ],
      "metadata": {
        "id": "6Sgv75bRIgwr"
      },
      "execution_count": null,
      "outputs": []
    },
    {
      "cell_type": "markdown",
      "source": [
        "Now we are going to find all Null value <-- notice how we can find null value for the entire df or 1 specific columns.\n",
        "Then replace w an average value"
      ],
      "metadata": {
        "id": "5TvlW1-hJZqO"
      }
    },
    {
      "cell_type": "code",
      "source": [
        "df['Values'].isnull()\n",
        "df.isnull()"
      ],
      "metadata": {
        "id": "a1IsUEOOJY2r"
      },
      "execution_count": null,
      "outputs": []
    },
    {
      "cell_type": "code",
      "source": [
        "df.fillna(250,inplace=True)\n",
        "df\n",
        "# making sure the inplace is specified, otherwise df will not commit the change"
      ],
      "metadata": {
        "id": "L_5jI_DoMzPX"
      },
      "execution_count": null,
      "outputs": []
    },
    {
      "cell_type": "markdown",
      "source": [
        "What if we want to fill multiple position with multiple values."
      ],
      "metadata": {
        "id": "XOIjMiMENlc8"
      }
    },
    {
      "cell_type": "code",
      "source": [
        "from pandas.core import missing\n",
        "missing_df=df.copy()\n",
        "missing_df['Homevalue']=None,None,None\n",
        "missing_df['Numrooms']=20, None,None\n",
        "missing_df"
      ],
      "metadata": {
        "id": "WTgCMD_hNWFK"
      },
      "execution_count": null,
      "outputs": []
    },
    {
      "cell_type": "markdown",
      "source": [
        "The input for the fillna() - insde the bracket must be either scaler or a dictionary. If using dictionary then we need to match the column as the key, value is a nested dictionary with key=index(such as: region), value=value. Make sure you use inplace=True to commit the change. fillna() does not override existing data that is not Naan= region remains 20 instead of 1.  "
      ],
      "metadata": {
        "id": "czSqPaKeO9CL"
      }
    },
    {
      "cell_type": "code",
      "source": [
        "missing_df.fillna({'Homevalue':100000,'Numrooms':{'Region':1 , 'Upper region':2,'Income':3}},inplace=True)\n",
        "missing_df"
      ],
      "metadata": {
        "id": "YCbgfi6aOC7j"
      },
      "execution_count": null,
      "outputs": []
    },
    {
      "cell_type": "markdown",
      "source": [
        "Let's try to see what if the nested dictionary isnt matching the index of the df <- the value remains None"
      ],
      "metadata": {
        "id": "lkjGFfJwPaC7"
      }
    },
    {
      "cell_type": "code",
      "source": [
        "second_missing=df.copy()\n",
        "second_missing['Homevalue']=None,None,None\n",
        "second_missing['Numrooms']=20, None,None\n",
        "second_missing.fillna({'Homevalue':100000,'Numrooms':{'Region':1 , 'Home':2,'Income':3}},inplace=True)\n",
        "second_missing"
      ],
      "metadata": {
        "id": "uaKY-nLePdoE"
      },
      "execution_count": null,
      "outputs": []
    },
    {
      "cell_type": "markdown",
      "source": [
        "we can also use fillna(method='ffill') <-- it will replace Naan with the last known value in the column.\n",
        "Whatis about if we can to count for number of missing values? how much data is missing"
      ],
      "metadata": {
        "id": "tF24XhRXO7yf"
      }
    },
    {
      "cell_type": "code",
      "source": [
        "count_missing=df.copy()\n",
        "count_missing['Homevalue']=None,None,None\n",
        "count_missing['Numrooms']=20, None,None\n",
        "count_missing"
      ],
      "metadata": {
        "id": "AHRtJTYWSna8"
      },
      "execution_count": null,
      "outputs": []
    },
    {
      "cell_type": "code",
      "source": [
        "count_missing.isnull().sum()\n",
        "# it returns the total missing values per columns."
      ],
      "metadata": {
        "id": "pYwTk6ieSxax"
      },
      "execution_count": null,
      "outputs": []
    },
    {
      "cell_type": "code",
      "source": [
        "# can we count the total missing value per row then? remember if we want the function to follow direction of row in result, the axis=1\n",
        "count_missing.isnull().sum(axis=1)\n"
      ],
      "metadata": {
        "id": "z6imt1HOS8fd"
      },
      "execution_count": null,
      "outputs": []
    },
    {
      "cell_type": "markdown",
      "source": [
        "let's drop all the records with null values <- empty DF because everysingle row has an naan"
      ],
      "metadata": {
        "id": "nHXPV8BjTvpT"
      }
    },
    {
      "cell_type": "code",
      "source": [
        "count_missing.dropna(inplace=True)\n",
        "count_missing"
      ],
      "metadata": {
        "id": "9-d4s4V1TvAv"
      },
      "execution_count": null,
      "outputs": []
    },
    {
      "cell_type": "markdown",
      "source": [
        "we also can dropna(axis=1) then it will drop all columns that contains None, keeping only the one that has no none."
      ],
      "metadata": {
        "id": "NRFXtHAuVgPP"
      }
    }
  ]
}