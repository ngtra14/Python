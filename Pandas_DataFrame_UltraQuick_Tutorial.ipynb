{
  "nbformat": 4,
  "nbformat_minor": 0,
  "metadata": {
    "colab": {
      "name": "Pandas DataFrame UltraQuick Tutorial.ipynb",
      "provenance": [],
      "toc_visible": true,
      "include_colab_link": true
    },
    "kernelspec": {
      "name": "python3",
      "display_name": "Python 3"
    }
  },
  "cells": [
    {
      "cell_type": "markdown",
      "metadata": {
        "id": "view-in-github",
        "colab_type": "text"
      },
      "source": [
        "<a href=\"https://colab.research.google.com/github/ngtra14/Python/blob/main/Pandas_DataFrame_UltraQuick_Tutorial.ipynb\" target=\"_parent\"><img src=\"https://colab.research.google.com/assets/colab-badge.svg\" alt=\"Open In Colab\"/></a>"
      ]
    },
    {
      "cell_type": "markdown",
      "source": [
        "# Creating DataFrame"
      ],
      "metadata": {
        "id": "9FdLHBbKkynG"
      }
    },
    {
      "cell_type": "code",
      "metadata": {
        "id": "ZmL0l551Iibq"
      },
      "source": [
        "import numpy as np\n",
        "import pandas as pd"
      ],
      "execution_count": null,
      "outputs": []
    },
    {
      "cell_type": "code",
      "source": [
        "from pandas import Series, DataFrame\n",
        "import numpy as np"
      ],
      "metadata": {
        "id": "UjLSpfP3kmbI"
      },
      "execution_count": null,
      "outputs": []
    },
    {
      "cell_type": "code",
      "source": [
        "series_obj=Series(np.arange(0,8,2),index=['row1','row2','row3','row4',])\n",
        "series_obj"
      ],
      "metadata": {
        "id": "VC5Gp8sYkuWe"
      },
      "execution_count": null,
      "outputs": []
    },
    {
      "cell_type": "code",
      "source": [
        "series_obj.iloc[[0,1]]"
      ],
      "metadata": {
        "id": "U-1XpKytlOcN"
      },
      "execution_count": null,
      "outputs": []
    },
    {
      "cell_type": "code",
      "source": [
        "series_obj['row2']"
      ],
      "metadata": {
        "id": "13wBKCgRlXy-"
      },
      "execution_count": null,
      "outputs": []
    },
    {
      "cell_type": "code",
      "source": [
        "df=DataFrame({'City':['Seattle','Chicago','NYC'], 'States':['WA','IL','NY'],'Avg':[100,200,500]})"
      ],
      "metadata": {
        "id": "gghl6ftElaLV"
      },
      "execution_count": null,
      "outputs": []
    },
    {
      "cell_type": "code",
      "source": [
        "df"
      ],
      "metadata": {
        "id": "vmphkyy9rCHd"
      },
      "execution_count": null,
      "outputs": []
    },
    {
      "cell_type": "markdown",
      "source": [
        "Creating Series from a dictionary."
      ],
      "metadata": {
        "id": "dC-oLpqqtrmd"
      }
    },
    {
      "cell_type": "code",
      "source": [
        "series_2=Series({'City':['Seattle','Chicago','NYC'], 'States':['WA','IL','NY'],'Avg':[100,200,500]})"
      ],
      "metadata": {
        "id": "PhZYnWMtrqBM"
      },
      "execution_count": null,
      "outputs": []
    },
    {
      "cell_type": "code",
      "source": [
        "series_2"
      ],
      "metadata": {
        "id": "9NfAVSl3rPO5"
      },
      "execution_count": null,
      "outputs": []
    },
    {
      "cell_type": "markdown",
      "source": [
        "Converting a series directly into dataframe.\n",
        "1. if no index specify, the dictionary key will become index. If we specify here and the index does not match the dictionary key, Naan value will appear."
      ],
      "metadata": {
        "id": "bBpLII_ru50P"
      }
    },
    {
      "cell_type": "code",
      "source": [
        "no_index_df=DataFrame(series_2)\n",
        "no_index_df"
      ],
      "metadata": {
        "id": "zxLsRcW6vDn_"
      },
      "execution_count": null,
      "outputs": []
    },
    {
      "cell_type": "code",
      "source": [
        "not_matching_index=DataFrame(series_2,index=['City','A','B'])\n",
        "not_matching_index"
      ],
      "metadata": {
        "id": "ypAvFqrnvR4Z"
      },
      "execution_count": null,
      "outputs": []
    },
    {
      "cell_type": "markdown",
      "source": [
        "How do we change the index then?\n",
        "1. If we change by .index() as below, the dictionary's key will be replaced by the new provied index list. The new index no longer needs to match the dictionary's key like when we transfrom earlier"
      ],
      "metadata": {
        "id": "L3iTw-s0vdOn"
      }
    },
    {
      "cell_type": "code",
      "source": [
        "dict_df=DataFrame(series_2,index=['City','States','Avg'])\n",
        "dict_df.index=['Location','Demo','Income']\n",
        "dict_df"
      ],
      "metadata": {
        "id": "U0P1hXs6rP_J"
      },
      "execution_count": null,
      "outputs": []
    },
    {
      "cell_type": "markdown",
      "source": [
        "2. If we want to keep the dictionary key, we need to reset the index then assign a new index. The new index can be anyvalue"
      ],
      "metadata": {
        "id": "e8Y6QeKVtqSq"
      }
    },
    {
      "cell_type": "code",
      "source": [
        "key_and_new=DataFrame(series_2)\n",
        "key_and_new\n",
        "#before"
      ],
      "metadata": {
        "id": "JnLoB-NVw2bU"
      },
      "execution_count": null,
      "outputs": []
    },
    {
      "cell_type": "code",
      "source": [
        "#after. makeing sure the inplace is set, otherwise it will replace, instead of adding another colum.\n",
        "key_and_new.reset_index(inplace=True)\n",
        "key_and_new"
      ],
      "metadata": {
        "id": "rIktoZXJmozm"
      },
      "execution_count": null,
      "outputs": []
    },
    {
      "cell_type": "code",
      "source": [
        "#change index\n",
        "key_and_new.index=['Region','Upper region','Income']\n",
        "key_and_new"
      ],
      "metadata": {
        "id": "079O0yrGmm_v"
      },
      "execution_count": null,
      "outputs": []
    },
    {
      "cell_type": "code",
      "source": [
        "key_and_new.index"
      ],
      "metadata": {
        "id": "fZ9VoipMl9mT"
      },
      "execution_count": null,
      "outputs": []
    },
    {
      "cell_type": "markdown",
      "source": [
        "Retrieving data from specific location"
      ],
      "metadata": {
        "id": "_W63pbyZ2jPP"
      }
    },
    {
      "cell_type": "code",
      "source": [
        "df=key_and_new.copy()\n",
        "df\n",
        "df.iloc[[1,2],[0]]"
      ],
      "metadata": {
        "id": "6rSa3mVllSbN"
      },
      "execution_count": null,
      "outputs": []
    },
    {
      "cell_type": "markdown",
      "source": [
        "# Accessing elements & Modifying the dataframe"
      ],
      "metadata": {
        "id": "rxnNFFZjlIho"
      }
    },
    {
      "cell_type": "markdown",
      "source": [
        "Slicing data from the dataframe"
      ],
      "metadata": {
        "id": "x3bOzjqD3Kjn"
      }
    },
    {
      "cell_type": "code",
      "source": [
        "df.iloc[0:2,1]"
      ],
      "metadata": {
        "id": "iLLeNCXelJSm"
      },
      "execution_count": null,
      "outputs": []
    },
    {
      "cell_type": "markdown",
      "source": [
        "Accessing an entire column using indexing"
      ],
      "metadata": {
        "id": "ChO5tQI45pta"
      }
    },
    {
      "cell_type": "code",
      "source": [
        "df['age']=[30,45,60]\n",
        "df\n"
      ],
      "metadata": {
        "id": "bxKIf430k_GN"
      },
      "execution_count": null,
      "outputs": []
    },
    {
      "cell_type": "code",
      "source": [
        "df.iloc[:,[0,2]]"
      ],
      "metadata": {
        "id": "V-AW9nIT5z6J"
      },
      "execution_count": null,
      "outputs": []
    },
    {
      "cell_type": "markdown",
      "source": [
        "Comparing- mask indexing\n",
        "if not using the outer df[], it will return an object w/ boolean values contains the index position.\n",
        "df[index statisfying the condition] >-- return actual value of the df"
      ],
      "metadata": {
        "id": "jv5mPYEy54y3"
      }
    },
    {
      "cell_type": "code",
      "source": [
        "mask=df.iloc[:,2]>35\n",
        "mask"
      ],
      "metadata": {
        "id": "AMc3gbDdksuU"
      },
      "execution_count": null,
      "outputs": []
    },
    {
      "cell_type": "code",
      "source": [
        "mask2=df[df.iloc[:,2]>35]\n",
        "mask2"
      ],
      "metadata": {
        "id": "2X4_fgTekqWx"
      },
      "execution_count": null,
      "outputs": []
    },
    {
      "cell_type": "markdown",
      "source": [
        "Replacing value inside the dataframe"
      ],
      "metadata": {
        "id": "9zTrwV9mD-Fo"
      }
    },
    {
      "cell_type": "code",
      "source": [
        "df"
      ],
      "metadata": {
        "id": "9Qb5L5dcEaQl"
      },
      "execution_count": null,
      "outputs": []
    },
    {
      "cell_type": "markdown",
      "source": [
        "replace the entire column value,column names vs. replace certain cell that satisfied a condition"
      ],
      "metadata": {
        "id": "904dAhY5Ed_M"
      }
    },
    {
      "cell_type": "code",
      "source": [
        "df.iloc[:,1]=None\n",
        "df"
      ],
      "metadata": {
        "id": "eipGRsdFEnXn"
      },
      "execution_count": null,
      "outputs": []
    },
    {
      "cell_type": "code",
      "source": [
        "df.columns=['Attribute','Values','Age',]\n",
        "df"
      ],
      "metadata": {
        "id": "0vf3ejeLE7kh"
      },
      "execution_count": null,
      "outputs": []
    },
    {
      "cell_type": "markdown",
      "source": [
        "If column Age is greater than 45 or smaller, then change the value in outcome accordingly.\n",
        "1. accessing to filter the value of age <-- those are the rows that satisfy <-- df.iloc[:,2] because we are filtering along the row\n",
        "2. using those defined rows, let's access the value in Column \" Outcome\" for those row and assign the new value. df.loc[filteredrow,'Outcome] <-- now accessing the value in the defined column."
      ],
      "metadata": {
        "id": "OQWofgG3Hg1j"
      }
    },
    {
      "cell_type": "code",
      "source": [
        "df.iloc[:,2]=df.iloc[:,2].apply(lambda x:int(x))\n",
        "df.loc[df.iloc[:,2]>45,'Outcome']=1\n",
        "df.loc[df.iloc[:,2]<45,'Outcome']=0\n",
        "df.loc[df.iloc[:,2]==45,'Outcome']=1000\n",
        "df"
      ],
      "metadata": {
        "id": "EtlpcTsBFPD6"
      },
      "execution_count": null,
      "outputs": []
    },
    {
      "cell_type": "markdown",
      "source": [
        "Modifying the dataframe to replace None value. Below code changing several lines with a list of value, making sure the [0:2] is the same length with the list"
      ],
      "metadata": {
        "id": "tdzLPVkgH-ak"
      }
    },
    {
      "cell_type": "code",
      "source": [
        "df.iloc[0:2,1]=[200,300]\n",
        "df"
      ],
      "metadata": {
        "id": "6Sgv75bRIgwr"
      },
      "execution_count": null,
      "outputs": []
    },
    {
      "cell_type": "markdown",
      "source": [
        "Now we are going to find all Null value <-- notice how we can find null value for the entire df or 1 specific columns.\n",
        "Then replace w an average value"
      ],
      "metadata": {
        "id": "5TvlW1-hJZqO"
      }
    },
    {
      "cell_type": "code",
      "source": [
        "df['Values'].isnull()\n",
        "df.isnull()"
      ],
      "metadata": {
        "id": "a1IsUEOOJY2r"
      },
      "execution_count": null,
      "outputs": []
    },
    {
      "cell_type": "code",
      "source": [
        "df.fillna(250,inplace=True)\n",
        "df\n",
        "# making sure the inplace is specified, otherwise df will not commit the change"
      ],
      "metadata": {
        "id": "L_5jI_DoMzPX"
      },
      "execution_count": null,
      "outputs": []
    },
    {
      "cell_type": "markdown",
      "source": [
        "What if we want to fill multiple position with multiple values."
      ],
      "metadata": {
        "id": "XOIjMiMENlc8"
      }
    },
    {
      "cell_type": "code",
      "source": [
        "from pandas.core import missing\n",
        "missing_df=df.copy()\n",
        "missing_df['Homevalue']=None,None,None\n",
        "missing_df['Numrooms']=20, None,None\n",
        "missing_df"
      ],
      "metadata": {
        "id": "WTgCMD_hNWFK"
      },
      "execution_count": null,
      "outputs": []
    },
    {
      "cell_type": "markdown",
      "source": [
        "The input for the fillna() - insde the bracket must be either scaler or a dictionary. If using dictionary then we need to match the column as the key, value is a nested dictionary with key=index(such as: region), value=value. Make sure you use inplace=True to commit the change. fillna() does not override existing data that is not Naan= region remains 20 instead of 1.  "
      ],
      "metadata": {
        "id": "czSqPaKeO9CL"
      }
    },
    {
      "cell_type": "code",
      "source": [
        "missing_df.fillna({'Homevalue':100000,'Numrooms':{'Region':1 , 'Upper region':2,'Income':3}},inplace=True)\n",
        "missing_df"
      ],
      "metadata": {
        "id": "YCbgfi6aOC7j"
      },
      "execution_count": null,
      "outputs": []
    },
    {
      "cell_type": "markdown",
      "source": [
        "Let's try to see what if the nested dictionary isnt matching the index of the df <- the value remains None"
      ],
      "metadata": {
        "id": "lkjGFfJwPaC7"
      }
    },
    {
      "cell_type": "code",
      "source": [
        "second_missing=df.copy()\n",
        "second_missing['Homevalue']=None,None,None\n",
        "second_missing['Numrooms']=20, None,None\n",
        "second_missing.fillna({'Homevalue':100000,'Numrooms':{'Region':1 , 'Home':2,'Income':3}},inplace=True)\n",
        "second_missing"
      ],
      "metadata": {
        "id": "uaKY-nLePdoE"
      },
      "execution_count": null,
      "outputs": []
    },
    {
      "cell_type": "markdown",
      "source": [
        "we can also use fillna(method='ffill') <-- it will replace Naan with the last known value in the column.\n",
        "Whatis about if we can to count for number of missing values? how much data is missing"
      ],
      "metadata": {
        "id": "tF24XhRXO7yf"
      }
    },
    {
      "cell_type": "code",
      "source": [
        "count_missing=df.copy()\n",
        "count_missing['Homevalue']=None,None,None\n",
        "count_missing['Numrooms']=20, None,None\n",
        "count_missing"
      ],
      "metadata": {
        "id": "AHRtJTYWSna8"
      },
      "execution_count": null,
      "outputs": []
    },
    {
      "cell_type": "code",
      "source": [
        "count_missing.isnull().sum()\n",
        "# it returns the total missing values per columns."
      ],
      "metadata": {
        "id": "pYwTk6ieSxax"
      },
      "execution_count": null,
      "outputs": []
    },
    {
      "cell_type": "code",
      "source": [
        "# can we count the total missing value per row then? remember if we want the function to follow direction of row in result, the axis=1\n",
        "count_missing.isnull().sum(axis=1)\n"
      ],
      "metadata": {
        "id": "z6imt1HOS8fd"
      },
      "execution_count": null,
      "outputs": []
    },
    {
      "cell_type": "markdown",
      "source": [
        "let's drop all the records with null values <- empty DF because everysingle row has an naan"
      ],
      "metadata": {
        "id": "nHXPV8BjTvpT"
      }
    },
    {
      "cell_type": "code",
      "source": [
        "count_missing.dropna(inplace=True)\n",
        "count_missing"
      ],
      "metadata": {
        "id": "9-d4s4V1TvAv"
      },
      "execution_count": null,
      "outputs": []
    },
    {
      "cell_type": "markdown",
      "source": [
        "we also can dropna(axis=1) then it will drop all columns that contains None, keeping only the one that has no none."
      ],
      "metadata": {
        "id": "NRFXtHAuVgPP"
      }
    },
    {
      "cell_type": "markdown",
      "source": [
        "How to find duplicate records and drop them ? Let's add new records first"
      ],
      "metadata": {
        "id": "owrJtA4mpHOl"
      }
    },
    {
      "cell_type": "code",
      "source": [
        "df"
      ],
      "metadata": {
        "id": "6lRm99v6pKOj"
      },
      "execution_count": null,
      "outputs": []
    },
    {
      "cell_type": "markdown",
      "source": [
        "1. appending a new duplicated data and ignoring the original index (ignore_index=True) <--  notice how the index change from 'region' to 0"
      ],
      "metadata": {
        "id": "vi6vpToOK2uW"
      }
    },
    {
      "cell_type": "code",
      "source": [
        "new_record={'Attribute':'City','Values':200,'Age':30,'Outcome':0.0}\n",
        "new_df=df.append(new_record,ignore_index=True)\n",
        "new_df"
      ],
      "metadata": {
        "id": "sK9WDJZyJcIO"
      },
      "execution_count": null,
      "outputs": []
    },
    {
      "cell_type": "markdown",
      "source": [
        "2. How to add a new record to dataframe without losing the index <-- create the new record as a series with a given name"
      ],
      "metadata": {
        "id": "Ed_7AjRILDrm"
      }
    },
    {
      "cell_type": "code",
      "source": [
        "# @title\n",
        "new_data =pd.Series({'Attribute':'City','Values':200,'Age':30,'Outcome':0.0},name='Region')\n",
        "new_df_indexkeep=df.append(new_data,ignore_index=False)\n",
        "new_df_indexkeep"
      ],
      "metadata": {
        "id": "Yb-gY0xULCqj"
      },
      "execution_count": null,
      "outputs": []
    },
    {
      "cell_type": "markdown",
      "source": [
        "Now the data has duplicated records, let continue checking and removing them"
      ],
      "metadata": {
        "id": "Jcw4uurWL8RE"
      }
    },
    {
      "cell_type": "code",
      "source": [
        "new_df.duplicated()"
      ],
      "metadata": {
        "id": "0mwN2lLeMLaV"
      },
      "execution_count": null,
      "outputs": []
    },
    {
      "cell_type": "code",
      "source": [
        "new_df_indexkeep.duplicated()"
      ],
      "metadata": {
        "id": "k09iic3FMPpQ"
      },
      "execution_count": null,
      "outputs": []
    },
    {
      "cell_type": "markdown",
      "source": [
        "The drop_duplicates allow to drop the entire row."
      ],
      "metadata": {
        "id": "w__2Jqsqj-bA"
      }
    },
    {
      "cell_type": "code",
      "source": [
        "new_df.drop_duplicates(inplace=True)\n",
        "new_df"
      ],
      "metadata": {
        "id": "D8vd6X_pMVfa"
      },
      "execution_count": null,
      "outputs": []
    },
    {
      "cell_type": "markdown",
      "source": [
        "If we can to drop duplicates based on value of 1 specific column, we will need to pass on the name of that column. drop_duplicates(['nameofcol'])"
      ],
      "metadata": {
        "id": "tWcpl3YEj9pk"
      }
    },
    {
      "cell_type": "code",
      "source": [
        "new_df_indexkeep"
      ],
      "metadata": {
        "id": "Zsq2_x3Ckbtf"
      },
      "execution_count": null,
      "outputs": []
    },
    {
      "cell_type": "code",
      "source": [
        "new_df_indexkeep.drop_duplicates(['Attribute'],inplace=True)\n",
        "new_df_indexkeep"
      ],
      "metadata": {
        "id": "TpZj2nylke_b"
      },
      "execution_count": null,
      "outputs": []
    },
    {
      "cell_type": "markdown",
      "source": [
        "# Merging,Concatenate and transforming dataframes\n"
      ],
      "metadata": {
        "id": "nMj9scxWl3kz"
      }
    },
    {
      "cell_type": "markdown",
      "source": [
        "Concate/Combine 2 dataframe by matching row-index value, meaning adding more columns"
      ],
      "metadata": {
        "id": "Lgj8M6-E37CP"
      }
    },
    {
      "cell_type": "code",
      "source": [
        "obj_1=pd.DataFrame(np.arange(36).reshape(6,6))\n",
        "obj_1\n",
        "# this is matrix size 6*6"
      ],
      "metadata": {
        "id": "lKsOPhY235q4"
      },
      "execution_count": null,
      "outputs": []
    },
    {
      "cell_type": "code",
      "source": [
        "obj_2=pd.DataFrame(np.arange(15).reshape(3,5))\n",
        "obj_2\n",
        "# this is matrix 3*5... reshape(row,col)"
      ],
      "metadata": {
        "id": "_63pKbd34XQA"
      },
      "execution_count": null,
      "outputs": []
    },
    {
      "cell_type": "markdown",
      "source": [
        "Adding 2 DF using concat()"
      ],
      "metadata": {
        "id": "ooET5c_sCgVh"
      }
    },
    {
      "cell_type": "code",
      "source": [
        "df=pd.concat([obj_1,obj_2],axis=1)\n",
        "df\n",
        "#axis=1 when we want to matching row index, increasing the number of col"
      ],
      "metadata": {
        "id": "4Wb6yfX14hs_"
      },
      "execution_count": null,
      "outputs": []
    },
    {
      "cell_type": "code",
      "source": [
        "df2=pd.concat([obj_1,obj_2],axis=0)\n",
        "df2\n",
        "## adding by matching col index, increasing the number of row"
      ],
      "metadata": {
        "id": "tPVBhZ3GAagL"
      },
      "execution_count": null,
      "outputs": []
    },
    {
      "cell_type": "markdown",
      "source": [
        "Adding a new record into DF:\n",
        "1. join <-- new col\n",
        "2. append <-- new row"
      ],
      "metadata": {
        "id": "FDqkFaDf5Dn0"
      }
    },
    {
      "cell_type": "code",
      "source": [
        "new_series=Series(np.arange(10),name='new_var')\n",
        "new_series\n",
        "# this series have 10 elements\n",
        "new_added_df=DataFrame.join(df,new_series)\n",
        "new_added_df\n",
        "# this only join the series as a new column and matching the length"
      ],
      "metadata": {
        "id": "bFggqqgL5IUC"
      },
      "execution_count": null,
      "outputs": []
    },
    {
      "cell_type": "markdown",
      "source": [
        "If we want to append a new row, the data must be sepcify by which value for which columns index. It different from adding a new column where you only need a name of series- which will be used as the col index."
      ],
      "metadata": {
        "id": "EF4pt7e3Bo3d"
      }
    },
    {
      "cell_type": "code",
      "source": [
        "#adding_row_df= df.append(new_series,ignore_index=False)\n",
        "dfcopy=df.copy()\n",
        "dfcopy.index=['a','b','c','d','e','g']\n",
        "new_series_modified=Series({0:'A',1:'A',2:'A',3:'A',4:'A'})\n",
        "new_series_modified\n",
        "dfcopy.columns\n",
        "dfcopy.append(new_series_modified,ignore_index=True)"
      ],
      "metadata": {
        "id": "IL4ANz-86u_l"
      },
      "execution_count": null,
      "outputs": []
    },
    {
      "cell_type": "markdown",
      "source": [
        "# Melting"
      ],
      "metadata": {
        "id": "59ALR68Xb5GA"
      }
    },
    {
      "cell_type": "code",
      "source": [
        "data=pd.DataFrame({'Name':['A','B','C','D','E'], 'Age':[10,20,30,40,50],'Edu':['HS','MS',\"\",'HS',\"\"]})\n",
        "data"
      ],
      "metadata": {
        "id": "VA3LhKyqcEow"
      },
      "execution_count": null,
      "outputs": []
    },
    {
      "cell_type": "markdown",
      "source": [
        "We are going to modify the abovedata with syntax learnt earlier.\n",
        "1. break age into 3 group, under 25, between 25-50 and above <-- ***method using here is to create a new column, need to find how to replace directly in the \"age\" column without getting the error of comparing str vs. int***\n",
        "2. remove na values and replace w/ previous values\n",
        "3. concat this df with a new records\n",
        "4. add a new income column and sort the data based on that colum\n"
      ],
      "metadata": {
        "id": "7JSug71Jcg7v"
      }
    },
    {
      "cell_type": "code",
      "source": [
        "data_testing=data.copy()\n",
        "data_testing.loc[data_testing['Age']<=25,'Group']='Under'\n",
        "data_testing.loc[(data_testing['Age']<50) & (data_testing['Age']>25),'Group']='Middle'\n",
        "data_testing.loc[data_testing['Age']>=50,'Group']='Senior'\n",
        "data_testing"
      ],
      "metadata": {
        "id": "6x64WHoNcfp7"
      },
      "execution_count": null,
      "outputs": []
    },
    {
      "cell_type": "code",
      "source": [
        "data_testing.loc[data_testing['Edu']==\"\",'Edu']=None\n",
        "data_testing.isna()"
      ],
      "metadata": {
        "id": "-uVa_pABoBG2"
      },
      "execution_count": null,
      "outputs": []
    },
    {
      "cell_type": "code",
      "source": [
        "#data_testing.dropna(axis=1)\n",
        "data_testing.fillna(method='ffill',inplace=True)\n",
        "data_testing"
      ],
      "metadata": {
        "id": "-nUWhqI7ofJu"
      },
      "execution_count": null,
      "outputs": []
    },
    {
      "cell_type": "code",
      "source": [
        "data.loc[data['Edu']==\"\",'Edu']=None\n",
        "data['Group']='Vary'\n",
        "combine_axis_0=pd.concat([data,data_testing],axis=0)\n",
        "combine_axis_0\n"
      ],
      "metadata": {
        "id": "mYtd33WOo-WO"
      },
      "execution_count": null,
      "outputs": []
    },
    {
      "cell_type": "code",
      "source": [
        "combine_axis_1=pd.concat([data,data_testing],axis=1)\n",
        "combine_axis_1"
      ],
      "metadata": {
        "id": "64mB8gIopbOR"
      },
      "execution_count": null,
      "outputs": []
    },
    {
      "cell_type": "markdown",
      "source": [
        "Notice how we have to sort by a unique column, thus combine_axis_0 can short by Age but not combine_axis_1"
      ],
      "metadata": {
        "id": "vVjkeBS6s5Uy"
      }
    },
    {
      "cell_type": "code",
      "source": [
        "combine_axis_0.sort_values(by='Age',ascending=True,inplace=True)\n",
        "combine_axis_0"
      ],
      "metadata": {
        "id": "XTR8Q77Oqt6X"
      },
      "execution_count": null,
      "outputs": []
    }
  ]
}